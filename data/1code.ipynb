{
 "cells": [
  {
   "cell_type": "code",
   "execution_count": null,
   "metadata": {},
   "outputs": [],
   "source": [
    "import pandas as pd\n",
    "import numpy as np\n",
    "import seaborn as sns\n",
    "\n",
    "salary_1 =  pd.read_csv('salary_1.csv')\n",
    "salary_2 =  pd.read_csv('salary_2.csv')\n",
    "\n",
    "salary_df = pd.concat([salary_1, salary_2])\n",
    "salary_df = salary_df.dropna()\n",
    "\n",
    "gender_salary = salary_df.groupby('Gender')['Salary'].mean()\n",
    "salary_df = salary_df.merge(gender_salary, on = 'Gender', how = 'left')\n",
    "salary_df = salary_df.rename({'Salary_x': 'Salary', 'Salary_y': 'Gender_salary'}, axis = 1)\n",
    "salary_df\n",
    "pd.pivot_table(salary_df, index='Country', columns='Gender', values='Years of Experience')\n",
    "\n",
    "salary_df['Salary_log'] = np.log(salary_df['Salary'])\n",
    "salary_df = salary_df.select_dtypes(exclude=['object'])\n",
    "\n",
    "from sklearn.preprocessing import RobustScaler\n",
    "rs = RobustScaler()\n",
    "rs.fit(salary_df)\n",
    "\n",
    "salary_df\n"
   ]
  },
  {
   "cell_type": "markdown",
   "metadata": {},
   "source": []
  }
 ],
 "metadata": {
  "kernelspec": {
   "display_name": "Python 3",
   "language": "python",
   "name": "python3"
  },
  "language_info": {
   "codemirror_mode": {
    "name": "ipython",
    "version": 3
   },
   "file_extension": ".py",
   "mimetype": "text/x-python",
   "name": "python",
   "nbconvert_exporter": "python",
   "pygments_lexer": "ipython3",
   "version": "3.13.0"
  }
 },
 "nbformat": 4,
 "nbformat_minor": 2
}
