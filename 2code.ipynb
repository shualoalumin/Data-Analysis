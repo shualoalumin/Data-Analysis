{
    "cells": [
        {
            "cell_type": "code",
            "execution_count": 74,
            "metadata": {},
            "outputs": [],
            "source": [
                "import pandas as pd\n",
                "import numpy as np\n",
                "import seaborn as sns\n",
                "\n",
                "titanic_df = pd.read_csv('titanic.csv')\n"
            ]
        },
        {
            "cell_type": "code",
            "execution_count": null,
            "metadata": {},
            "outputs": [],
            "source": [
                "\n",
                "titanic_df.head(15)"
            ]
        },
        {
            "cell_type": "code",
            "execution_count": null,
            "metadata": {},
            "outputs": [],
            "source": [
                "titanic_df.info()"
            ]
        },
        {
            "cell_type": "code",
            "execution_count": null,
            "metadata": {},
            "outputs": [],
            "source": [
                "titanic_df.describe()"
            ]
        },
        {
            "cell_type": "code",
            "execution_count": null,
            "metadata": {},
            "outputs": [],
            "source": [
                "titanic_df.isna().mean()"
            ]
        },
        {
            "cell_type": "code",
            "execution_count": 91,
            "metadata": {},
            "outputs": [
                {
                    "data": {
                        "text/html": [
                            "<div>\n",
                            "<style scoped>\n",
                            "    .dataframe tbody tr th:only-of-type {\n",
                            "        vertical-align: middle;\n",
                            "    }\n",
                            "\n",
                            "    .dataframe tbody tr th {\n",
                            "        vertical-align: top;\n",
                            "    }\n",
                            "\n",
                            "    .dataframe thead th {\n",
                            "        text-align: right;\n",
                            "    }\n",
                            "</style>\n",
                            "<table border=\"1\" class=\"dataframe\">\n",
                            "  <thead>\n",
                            "    <tr style=\"text-align: right;\">\n",
                            "      <th></th>\n",
                            "      <th>Pclass</th>\n",
                            "      <th>Name</th>\n",
                            "      <th>Gendr</th>\n",
                            "      <th>Age</th>\n",
                            "      <th>SibSp</th>\n",
                            "      <th>Parch</th>\n",
                            "      <th>Ticket</th>\n",
                            "      <th>Embarked</th>\n",
                            "      <th>Survived</th>\n",
                            "      <th>ticket_date</th>\n",
                            "    </tr>\n",
                            "  </thead>\n",
                            "  <tbody>\n",
                            "    <tr>\n",
                            "      <th>3</th>\n",
                            "      <td>1</td>\n",
                            "      <td>Futrelle, Mrs. Jacques Heath (Lily May Peel)</td>\n",
                            "      <td>female</td>\n",
                            "      <td>29.679181</td>\n",
                            "      <td>1</td>\n",
                            "      <td>0</td>\n",
                            "      <td>113803</td>\n",
                            "      <td>S</td>\n",
                            "      <td>1</td>\n",
                            "      <td>1912-03-28</td>\n",
                            "    </tr>\n",
                            "    <tr>\n",
                            "      <th>106</th>\n",
                            "      <td>3</td>\n",
                            "      <td>Moss, Mr. Albert Johan</td>\n",
                            "      <td>male</td>\n",
                            "      <td>29.679181</td>\n",
                            "      <td>0</td>\n",
                            "      <td>0</td>\n",
                            "      <td>312991</td>\n",
                            "      <td>S</td>\n",
                            "      <td>1</td>\n",
                            "      <td>1912-01-27</td>\n",
                            "    </tr>\n",
                            "    <tr>\n",
                            "      <th>156</th>\n",
                            "      <td>3</td>\n",
                            "      <td>Corn, Mr. Harry</td>\n",
                            "      <td>male</td>\n",
                            "      <td>29.679181</td>\n",
                            "      <td>0</td>\n",
                            "      <td>0</td>\n",
                            "      <td>SOTON/OQ 392090</td>\n",
                            "      <td>S</td>\n",
                            "      <td>0</td>\n",
                            "      <td>1912-04-01</td>\n",
                            "    </tr>\n",
                            "    <tr>\n",
                            "      <th>185</th>\n",
                            "      <td>3</td>\n",
                            "      <td>O'Brien, Mrs. Thomas (Johanna \"Hannah\" Godfrey)</td>\n",
                            "      <td>female</td>\n",
                            "      <td>29.679181</td>\n",
                            "      <td>1</td>\n",
                            "      <td>0</td>\n",
                            "      <td>370365</td>\n",
                            "      <td>Q</td>\n",
                            "      <td>1</td>\n",
                            "      <td>1912-03-25</td>\n",
                            "    </tr>\n",
                            "    <tr>\n",
                            "      <th>213</th>\n",
                            "      <td>3</td>\n",
                            "      <td>Kiernan, Mr. Philip</td>\n",
                            "      <td>male</td>\n",
                            "      <td>29.679181</td>\n",
                            "      <td>1</td>\n",
                            "      <td>0</td>\n",
                            "      <td>367229</td>\n",
                            "      <td>Q</td>\n",
                            "      <td>0</td>\n",
                            "      <td>1912-02-12</td>\n",
                            "    </tr>\n",
                            "    <tr>\n",
                            "      <th>241</th>\n",
                            "      <td>2</td>\n",
                            "      <td>Coleridge, Mr. Reginald Charles</td>\n",
                            "      <td>male</td>\n",
                            "      <td>29.679181</td>\n",
                            "      <td>0</td>\n",
                            "      <td>0</td>\n",
                            "      <td>W./C. 14263</td>\n",
                            "      <td>S</td>\n",
                            "      <td>0</td>\n",
                            "      <td>1912-01-31</td>\n",
                            "    </tr>\n",
                            "  </tbody>\n",
                            "</table>\n",
                            "</div>"
                        ],
                        "text/plain": [
                            "     Pclass                                             Name   Gendr  \\\n",
                            "3         1     Futrelle, Mrs. Jacques Heath (Lily May Peel)  female   \n",
                            "106       3                           Moss, Mr. Albert Johan    male   \n",
                            "156       3                                  Corn, Mr. Harry    male   \n",
                            "185       3  O'Brien, Mrs. Thomas (Johanna \"Hannah\" Godfrey)  female   \n",
                            "213       3                              Kiernan, Mr. Philip    male   \n",
                            "241       2                  Coleridge, Mr. Reginald Charles    male   \n",
                            "\n",
                            "           Age  SibSp  Parch           Ticket Embarked  Survived ticket_date  \n",
                            "3    29.679181      1      0           113803        S         1  1912-03-28  \n",
                            "106  29.679181      0      0           312991        S         1  1912-01-27  \n",
                            "156  29.679181      0      0  SOTON/OQ 392090        S         0  1912-04-01  \n",
                            "185  29.679181      1      0           370365        Q         1  1912-03-25  \n",
                            "213  29.679181      1      0           367229        Q         0  1912-02-12  \n",
                            "241  29.679181      0      0      W./C. 14263        S         0  1912-01-31  "
                        ]
                    },
                    "execution_count": 91,
                    "metadata": {},
                    "output_type": "execute_result"
                }
            ],
            "source": [
                "titanic_df['Age'] = titanic_df['Age'].fillna(titanic_df['Age'].mean())\n",
                "\n",
                "titanic_df.head(15)\n",
                "\n",
                "# 결측치가 수정된 행 frame으로 보여주기\n",
                "titanic_df[titanic_df['Age'] == titanic_df['Age'].mean()]\n",
                "\n"
            ]
        },
        {
            "cell_type": "code",
            "execution_count": null,
            "metadata": {},
            "outputs": [],
            "source": [
                "# Embarked 컬럼의 결측치를 'S'로 채우기\n",
                "titanic_df['Embarked'] = titanic_df['Embarked'].fillna('S')\n",
                "\n",
                "# Embarked 컬럼의 결측치가 수정된 행 frame으로 보여주기\n",
                "titanic_df[titanic_df['Embarked'] == 'S']\n",
                "\n"
            ]
        },
        {
            "cell_type": "code",
            "execution_count": 92,
            "metadata": {},
            "outputs": [
                {
                    "data": {
                        "text/plain": [
                            "<Axes: xlabel='Age'>"
                        ]
                    },
                    "execution_count": 92,
                    "metadata": {},
                    "output_type": "execute_result"
                },
                {
                    "data": {
                        "image/png": "[encoded data removed]",
                        "text/plain": [
                            "<Figure size 640x480 with 1 Axes>"
                        ]
                    },
                    "metadata": {},
                    "output_type": "display_data"
                }
            ],
            "source": [
                "# Age 컬럼의 아웃라이어를 확인하기 위해, Box Plot 그리기\n",
                "sns.boxplot(x='Age', data=titanic_df)\n"
            ]
        },
        {
            "cell_type": "code",
            "execution_count": null,
            "metadata": {},
            "outputs": [],
            "source": [
                "# Age 컬럼의 아웃라이어를 확인하기 위해, Scatter Plot 그리기 (x축은 인덱스로 설정)\n",
                "sns.scatterplot(x=titanic_df.index, y='Age', data=titanic_df)\n"
            ]
        },
        {
            "cell_type": "code",
            "execution_count": 96,
            "metadata": {},
            "outputs": [
                {
                    "name": "stdout",
                    "output_type": "stream",
                    "text": [
                        "\n",
                        "[제거 전]\n",
                        "(885, 10)\n",
                        "\n",
                        "[제거 후]\n",
                        "(884, 10)\n"
                    ]
                },
                {
                    "data": {
                        "text/html": [
                            "<div>\n",
                            "<style scoped>\n",
                            "    .dataframe tbody tr th:only-of-type {\n",
                            "        vertical-align: middle;\n",
                            "    }\n",
                            "\n",
                            "    .dataframe tbody tr th {\n",
                            "        vertical-align: top;\n",
                            "    }\n",
                            "\n",
                            "    .dataframe thead th {\n",
                            "        text-align: right;\n",
                            "    }\n",
                            "</style>\n",
                            "<table border=\"1\" class=\"dataframe\">\n",
                            "  <thead>\n",
                            "    <tr style=\"text-align: right;\">\n",
                            "      <th></th>\n",
                            "      <th>행 수</th>\n",
                            "      <th>열 수</th>\n",
                            "    </tr>\n",
                            "  </thead>\n",
                            "  <tbody>\n",
                            "    <tr>\n",
                            "      <th>제거 전</th>\n",
                            "      <td>885</td>\n",
                            "      <td>10</td>\n",
                            "    </tr>\n",
                            "    <tr>\n",
                            "      <th>제거 후</th>\n",
                            "      <td>884</td>\n",
                            "      <td>10</td>\n",
                            "    </tr>\n",
                            "  </tbody>\n",
                            "</table>\n",
                            "</div>"
                        ],
                        "text/plain": [
                            "      행 수  열 수\n",
                            "제거 전  885   10\n",
                            "제거 후  884   10"
                        ]
                    },
                    "execution_count": 96,
                    "metadata": {},
                    "output_type": "execute_result"
                }
            ],
            "source": [
                "# Age 컬럼에서 100 이상의 데이터 포인트(데이터 행) 제거하기\n",
                "titanic_df['Age'] = titanic_df[titanic_df['Age'] < 100]['Age']\n",
                "\n",
                "\n",
                "titanic_df.drop(titanic_df[titanic_df['Age'] >= 100].index)\n",
                "\n",
                "# 제거 전후 비교\n",
                "print(\"\\n[제거 전]\")\n",
                "print(titanic_df.shape)\n",
                "print(\"\\n[제거 후]\")\n",
                "print(titanic_df[titanic_df['Age'] < 100].shape)\n",
                "# 제거 전후 비교\n",
                "pd.DataFrame({\n",
                "    '제거 전': titanic_df.shape,\n",
                "    '제거 후': titanic_df[titanic_df['Age'] < 100].shape\n",
                "}, index=['행 수', '열 수']).T\n",
                "# Age 컬럼의 아웃라이어 제거 후 데이터프레임 업데이트\n",
                "titanic_df = titanic_df[titanic_df['Age'] < 100]\n",
                "\n"
            ]
        },
        {
            "cell_type": "code",
            "execution_count": 97,
            "metadata": {},
            "outputs": [
                {
                    "name": "stdout",
                    "output_type": "stream",
                    "text": [
                        "<class 'pandas.core.frame.DataFrame'>\n",
                        "RangeIndex: 885 entries, 0 to 884\n",
                        "Data columns (total 10 columns):\n",
                        " #   Column       Non-Null Count  Dtype  \n",
                        "---  ------       --------------  -----  \n",
                        " 0   Pclass       885 non-null    int64  \n",
                        " 1   Name         885 non-null    object \n",
                        " 2   Gendr        885 non-null    object \n",
                        " 3   Age          884 non-null    float64\n",
                        " 4   SibSp        885 non-null    int64  \n",
                        " 5   Parch        885 non-null    int64  \n",
                        " 6   Ticket       885 non-null    object \n",
                        " 7   Embarked     883 non-null    object \n",
                        " 8   Survived     885 non-null    int64  \n",
                        " 9   ticket_date  885 non-null    object \n",
                        "dtypes: float64(1), int64(4), object(5)\n",
                        "memory usage: 69.3+ KB\n"
                    ]
                }
            ],
            "source": [
                "titanic_df.info()"
            ]
        },
        {
            "cell_type": "code",
            "execution_count": null,
            "metadata": {},
            "outputs": [],
            "source": [
                "# 변수 이름 \"Gendr\"를 \"Gender\"로 변경하기\n",
                "titanic_df.rename(columns={'Gendr': 'Gender'}, inplace=True)\n"
            ]
        },
        {
            "cell_type": "code",
            "execution_count": 99,
            "metadata": {},
            "outputs": [
                {
                    "name": "stdout",
                    "output_type": "stream",
                    "text": [
                        "<class 'pandas.core.frame.DataFrame'>\n",
                        "RangeIndex: 885 entries, 0 to 884\n",
                        "Data columns (total 10 columns):\n",
                        " #   Column       Non-Null Count  Dtype  \n",
                        "---  ------       --------------  -----  \n",
                        " 0   Pclass       885 non-null    int64  \n",
                        " 1   Name         885 non-null    object \n",
                        " 2   Gender       885 non-null    object \n",
                        " 3   Age          884 non-null    float64\n",
                        " 4   SibSp        885 non-null    int64  \n",
                        " 5   Parch        885 non-null    int64  \n",
                        " 6   Ticket       885 non-null    object \n",
                        " 7   Embarked     883 non-null    object \n",
                        " 8   Survived     885 non-null    int64  \n",
                        " 9   ticket_date  885 non-null    object \n",
                        "dtypes: float64(1), int64(4), object(5)\n",
                        "memory usage: 69.3+ KB\n"
                    ]
                }
            ],
            "source": [
                "titanic_df = titanic_df.rename({'Gendr': 'Gender'}, axis=1)\n",
                "titanic_df.info()\n",
                "\n"
            ]
        },
        {
            "cell_type": "code",
            "execution_count": 100,
            "metadata": {},
            "outputs": [
                {
                    "data": {
                        "text/plain": [
                            "0      M\n",
                            "1      F\n",
                            "2      F\n",
                            "3      F\n",
                            "4      M\n",
                            "      ..\n",
                            "880    M\n",
                            "881    F\n",
                            "882    F\n",
                            "883    M\n",
                            "884    M\n",
                            "Name: Gender, Length: 885, dtype: object"
                        ]
                    },
                    "execution_count": 100,
                    "metadata": {},
                    "output_type": "execute_result"
                }
            ],
            "source": [
                "# Gender 변수의 male을 'M'으로, female을 'F'로 변경하기\n",
                "titanic_df['Gender'] = titanic_df['Gender'].map({'male': 'M', 'female': 'F'})\n",
                "titanic_df['Gender']"
            ]
        },
        {
            "cell_type": "code",
            "execution_count": 101,
            "metadata": {},
            "outputs": [
                {
                    "data": {
                        "text/plain": [
                            "0           A/5\n",
                            "1            PC\n",
                            "2      STON/O2.\n",
                            "3        113803\n",
                            "4        373450\n",
                            "         ...   \n",
                            "880      211536\n",
                            "881      112053\n",
                            "882       W./C.\n",
                            "883      111369\n",
                            "884      370376\n",
                            "Name: ticket_head, Length: 885, dtype: object"
                        ]
                    },
                    "execution_count": 101,
                    "metadata": {},
                    "output_type": "execute_result"
                }
            ],
            "source": [
                "# Ticket 변수를 띄어쓰기 기준으로 분류하고, 가장 앞부분을 \"ticket_head\" 라는 이름의 변수로 저장하기\n",
                "titanic_df['ticket_head'] = titanic_df['Ticket'].str.split().str[0]\n",
                "titanic_df['ticket_head']\n",
                "\n",
                "\n"
            ]
        },
        {
            "cell_type": "code",
            "execution_count": null,
            "metadata": {},
            "outputs": [],
            "source": [
                "# ticket_head 변수를 소문자로 변경하기\n",
                "titanic_df['ticket_head'] = titanic_df['ticket_head'].str.lower()\n"
            ]
        },
        {
            "cell_type": "code",
            "execution_count": 107,
            "metadata": {},
            "outputs": [
                {
                    "name": "stdout",
                    "output_type": "stream",
                    "text": [
                        "<class 'pandas.core.frame.DataFrame'>\n",
                        "RangeIndex: 885 entries, 0 to 884\n",
                        "Data columns (total 11 columns):\n",
                        " #   Column       Non-Null Count  Dtype  \n",
                        "---  ------       --------------  -----  \n",
                        " 0   Pclass       885 non-null    int64  \n",
                        " 1   Name         885 non-null    object \n",
                        " 2   Gender       885 non-null    object \n",
                        " 3   Age          884 non-null    float64\n",
                        " 4   SibSp        885 non-null    int64  \n",
                        " 5   Parch        885 non-null    int64  \n",
                        " 6   Ticket       885 non-null    object \n",
                        " 7   Embarked     883 non-null    object \n",
                        " 8   Survived     885 non-null    int64  \n",
                        " 9   ticket_date  885 non-null    object \n",
                        " 10  ticket_head  885 non-null    object \n",
                        "dtypes: float64(1), int64(4), object(6)\n",
                        "memory usage: 76.2+ KB\n"
                    ]
                }
            ],
            "source": [
                "titanic_df.info()"
            ]
        },
        {
            "cell_type": "code",
            "execution_count": 108,
            "metadata": {},
            "outputs": [
                {
                    "name": "stdout",
                    "output_type": "stream",
                    "text": [
                        "<class 'pandas.core.frame.DataFrame'>\n",
                        "RangeIndex: 885 entries, 0 to 884\n",
                        "Data columns (total 11 columns):\n",
                        " #   Column       Non-Null Count  Dtype         \n",
                        "---  ------       --------------  -----         \n",
                        " 0   Pclass       885 non-null    int64         \n",
                        " 1   Name         885 non-null    object        \n",
                        " 2   Gender       885 non-null    object        \n",
                        " 3   Age          884 non-null    float64       \n",
                        " 4   SibSp        885 non-null    int64         \n",
                        " 5   Parch        885 non-null    int64         \n",
                        " 6   Ticket       885 non-null    object        \n",
                        " 7   Embarked     883 non-null    object        \n",
                        " 8   Survived     885 non-null    int64         \n",
                        " 9   ticket_date  885 non-null    datetime64[ns]\n",
                        " 10  ticket_head  885 non-null    object        \n",
                        "dtypes: datetime64[ns](1), float64(1), int64(4), object(5)\n",
                        "memory usage: 76.2+ KB\n"
                    ]
                }
            ],
            "source": [
                "# ticket_date 변수의 데이터 타입을 datetime으로 변경하기\n",
                "titanic_df['ticket_date'] = pd.to_datetime(titanic_df['ticket_date'])\n",
                "titanic_df.info()\n"
            ]
        },
        {
            "cell_type": "code",
            "execution_count": 109,
            "metadata": {},
            "outputs": [
                {
                    "data": {
                        "text/plain": [
                            "0      1912\n",
                            "1      1912\n",
                            "2      1912\n",
                            "3      1912\n",
                            "4      1912\n",
                            "       ... \n",
                            "880    1912\n",
                            "881    1912\n",
                            "882    1912\n",
                            "883    1912\n",
                            "884    1912\n",
                            "Name: ticket_year, Length: 885, dtype: int32"
                        ]
                    },
                    "execution_count": 109,
                    "metadata": {},
                    "output_type": "execute_result"
                }
            ],
            "source": [
                "# ticket_date 변수에서 year 값을 추출하여 'ticket_year' 컬럼으로 저장하기\n",
                "titanic_df['ticket_year'] = titanic_df['ticket_date'].dt.year   \n",
                "titanic_df['ticket_year']\n",
                "\n"
            ]
        }
    ],
    "metadata": {
        "kernelspec": {
            "display_name": "Python 3",
            "language": "python",
            "name": "python3"
        },
        "language_info": {
            "codemirror_mode": {
                "name": "ipython",
                "version": 3
            },
            "file_extension": ".py",
            "mimetype": "text/x-python",
            "name": "python",
            "nbconvert_exporter": "python",
            "pygments_lexer": "ipython3",
            "version": "3.13.0"
        }
    },
    "nbformat": 4,
    "nbformat_minor": 2
}
